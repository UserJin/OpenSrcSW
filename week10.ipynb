{
 "cells": [
  {
   "cell_type": "code",
   "execution_count": null,
   "id": "8925f091",
   "metadata": {},
   "outputs": [],
   "source": [
    "#실습 2\n",
    "number = input(\"Numbers? \").split()\n",
    "number = [int (i) for i in number]\n",
    "print(\"Max = \" + str(max(number)) + \"\\n\")\n",
    "\n",
    "#실습 3\n",
    "e_str = input(\"Encode? \")\n",
    "list = e_str.split()\n",
    "list.reverse()\n",
    "e_list = []\n",
    "for i in list:\n",
    "    temp = \"\"\n",
    "    for c in i:\n",
    "        temp = temp + chr(ord(c)+1)\n",
    "    e_list.append(temp)\n",
    "for k in e_list:\n",
    "    print(k, end=' ')\n",
    "print(\"\")\n",
    "    \n",
    "d_str = input(\"Decode? \")\n",
    "list = d_str.split()\n",
    "d_list = []\n",
    "for i in list:\n",
    "    temp = \"\"\n",
    "    for c in i:\n",
    "        temp = temp + chr(ord(c)-1)\n",
    "    d_list.append(temp)\n",
    "d_list.reverse()\n",
    "for k in d_list:\n",
    "    print(k, end=' ')\n",
    "print(\"\\n\")\n",
    "\n",
    "#실습 4\n",
    "nameDic = {}\n",
    "numDic = {}\n",
    "for i in range(1,4):\n",
    "    dicList = input(\"name number \").split()\n",
    "    nameDic[dicList[0]] = dicList[1]\n",
    "    numDic[dicList[1]] = dicList[0]\n",
    "\n",
    "findName = input(\"Name? \")\n",
    "print(\"Number = \" + nameDic[findName])\n",
    "\n",
    "findNum = input(\"Number? \")\n",
    "print(\"Name = \" + numDic[findNum])\n"
   ]
  },
  {
   "cell_type": "code",
   "execution_count": null,
   "id": "e8177dea",
   "metadata": {},
   "outputs": [],
   "source": []
  },
  {
   "cell_type": "code",
   "execution_count": null,
   "id": "6aabe430",
   "metadata": {},
   "outputs": [],
   "source": []
  }
 ],
 "metadata": {
  "kernelspec": {
   "display_name": "Python 3",
   "language": "python",
   "name": "python3"
  },
  "language_info": {
   "codemirror_mode": {
    "name": "ipython",
    "version": 3
   },
   "file_extension": ".py",
   "mimetype": "text/x-python",
   "name": "python",
   "nbconvert_exporter": "python",
   "pygments_lexer": "ipython3",
   "version": "3.9.4"
  }
 },
 "nbformat": 4,
 "nbformat_minor": 5
}
