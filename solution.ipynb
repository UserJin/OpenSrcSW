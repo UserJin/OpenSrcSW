{
 "cells": [
  {
   "cell_type": "code",
   "execution_count": 14,
   "id": "ecf161ae",
   "metadata": {
    "scrolled": true
   },
   "outputs": [
    {
     "name": "stdout",
     "output_type": "stream",
     "text": [
      "(1,2)\n",
      "(3,4)\n"
     ]
    },
    {
     "ename": "AttributeError",
     "evalue": "'NoneType' object has no attribute 'show'",
     "output_type": "error",
     "traceback": [
      "\u001b[1;31m---------------------------------------------------------------------------\u001b[0m",
      "\u001b[1;31mAttributeError\u001b[0m                            Traceback (most recent call last)",
      "\u001b[1;32m<ipython-input-14-ed46d0650b3a>\u001b[0m in \u001b[0;36m<module>\u001b[1;34m\u001b[0m\n\u001b[0;32m     21\u001b[0m \u001b[1;33m\u001b[0m\u001b[0m\n\u001b[0;32m     22\u001b[0m \u001b[0ma\u001b[0m \u001b[1;33m=\u001b[0m \u001b[0ma\u001b[0m \u001b[1;33m+\u001b[0m \u001b[0mb\u001b[0m\u001b[1;33m\u001b[0m\u001b[1;33m\u001b[0m\u001b[0m\n\u001b[1;32m---> 23\u001b[1;33m \u001b[0ma\u001b[0m\u001b[1;33m.\u001b[0m\u001b[0mshow\u001b[0m\u001b[1;33m(\u001b[0m\u001b[1;33m)\u001b[0m\u001b[1;33m\u001b[0m\u001b[1;33m\u001b[0m\u001b[0m\n\u001b[0m",
      "\u001b[1;31mAttributeError\u001b[0m: 'NoneType' object has no attribute 'show'"
     ]
    }
   ],
   "source": [
    "class Point:\n",
    "    point_x = 0\n",
    "    point_y = 0\n",
    "    \n",
    "    def __init__(self, x, y):\n",
    "        self.point_x = x\n",
    "        self.point_y = y\n",
    "        \n",
    "    def show(self):\n",
    "        print(\"({0},{1})\".format(self.point_x, self.point_y))\n",
    "        \n",
    "    def __add__(self, other):\n",
    "        self.point_x = self.point_x + other.point_x\n",
    "        self.point_y = self.point_y + other.point_y\n",
    "        \n",
    "a = Point(1,2)\n",
    "a.show()\n",
    "        \n",
    "b = Point(3,4)\n",
    "b.show()\n",
    "        \n",
    "a = a + b\n",
    "a.show()"
   ]
  },
  {
   "cell_type": "code",
   "execution_count": 27,
   "id": "3818ed65",
   "metadata": {},
   "outputs": [
    {
     "name": "stdout",
     "output_type": "stream",
     "text": [
      "Max Week = 5/8 ~ 5/14\n"
     ]
    }
   ],
   "source": [
    "import csv\n",
    "\n",
    "f = open('seoul.csv', encoding='cp949')\n",
    "data = csv.reader(f)\n",
    "header = next(data)\n",
    "temp_list = []\n",
    "max_data = -999\n",
    "maxday = 0\n",
    "\n",
    "for row in data:\n",
    "    day_list = []\n",
    "    day_list.append(row[0]) # 날짜\n",
    "    day_list.append(float(row[-1]) - float(row[-2])) # 일교차\n",
    "    temp_list.append(day_list)\n",
    "f.close()\n",
    "\n",
    "for i in range(0, 25):\n",
    "    temp_data = 0\n",
    "    for j in range(0,7):\n",
    "        tttl = temp_list[i+j]\n",
    "        temp_data = temp_data + tttl[1]\n",
    "    if temp_data > max_data:\n",
    "        max_data = temp_data\n",
    "        maxday = i\n",
    "        \n",
    "print(\"Max Week = 5/{0} ~ 5/{1}\".format(maxday+1, maxday+7))"
   ]
  },
  {
   "cell_type": "code",
   "execution_count": 34,
   "id": "48688e23",
   "metadata": {},
   "outputs": [
    {
     "data": {
      "image/png": "[encoded data removed]",
      "text/plain": [
       "<Figure size 432x288 with 1 Axes>"
      ]
     },
     "metadata": {
      "needs_background": "light"
     },
     "output_type": "display_data"
    }
   ],
   "source": [
    "import numpy as np\n",
    "import matplotlib.pyplot as plt\n",
    "\n",
    "docs = np.array([[1,1,0,1,0,1], [1,1,1,0,1,0], [1,1,0,1,0,0]])\n",
    "q = np.array([1,1,0,1,0,0])\n",
    "name = []\n",
    "result = []\n",
    "size_q =0\n",
    "for k in q:\n",
    "    size_q = size_q + k\n",
    "size_q = np.sqrt(size_q)\n",
    "\n",
    "for j in docs:\n",
    "    size_d = 0\n",
    "    for  k in j:\n",
    "        size_d = size_d + k\n",
    "    size_d = np.sqrt(size_d)\n",
    "    temp = j * q\n",
    "    t_sum =0\n",
    "    for k in temp:\n",
    "        t_sum = t_sum + k\n",
    "    result.append(t_sum /(size_q*size_d))\n",
    "    \n",
    "for i in result:\n",
    "    temp = \"docl=\" + str(i)\n",
    "    name.append(temp)\n",
    "\n",
    "plt.bar(name, result)\n",
    "plt.show()"
   ]
  },
  {
   "cell_type": "code",
   "execution_count": null,
   "id": "379ffafe",
   "metadata": {},
   "outputs": [],
   "source": []
  }
 ],
 "metadata": {
  "kernelspec": {
   "display_name": "Python 3",
   "language": "python",
   "name": "python3"
  },
  "language_info": {
   "codemirror_mode": {
    "name": "ipython",
    "version": 3
   },
   "file_extension": ".py",
   "mimetype": "text/x-python",
   "name": "python",
   "nbconvert_exporter": "python",
   "pygments_lexer": "ipython3",
   "version": "3.8.8"
  }
 },
 "nbformat": 4,
 "nbformat_minor": 5
}
