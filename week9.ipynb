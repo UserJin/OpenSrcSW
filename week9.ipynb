{
 "cells": [
  {
   "cell_type": "code",
   "execution_count": 8,
   "id": "ed149ede",
   "metadata": {},
   "outputs": [
    {
     "name": "stdout",
     "output_type": "stream",
     "text": [
      "Enter x: 5\n",
      "y is 103\n",
      "\n",
      "Enter radius: 5\n",
      "Area is 78.50\n",
      "Circumference is 31.40\n"
     ]
    }
   ],
   "source": [
    "x = int(input(\"Enter x: \"))\n",
    "y = 3*x**2 + 5*x  + 3\n",
    "print(\"y is \"+str(y)+\"\\n\")\n",
    "\n",
    "pi = 3.14\n",
    "r = int(input(\"Enter radius: \"))\n",
    "s = pi*r**2\n",
    "l = pi*2*r\n",
    "print(\"Area is {0:.2f}\".format(s))\n",
    "print(\"Circumference is {0:.2f}\".format(l))"
   ]
  }
 ],
 "metadata": {
  "kernelspec": {
   "display_name": "Python 3",
   "language": "python",
   "name": "python3"
  },
  "language_info": {
   "codemirror_mode": {
    "name": "ipython",
    "version": 3
   },
   "file_extension": ".py",
   "mimetype": "text/x-python",
   "name": "python",
   "nbconvert_exporter": "python",
   "pygments_lexer": "ipython3",
   "version": "3.9.4"
  }
 },
 "nbformat": 4,
 "nbformat_minor": 5
}
