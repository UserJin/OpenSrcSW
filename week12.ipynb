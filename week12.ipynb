{
 "cells": [
  {
   "cell_type": "code",
   "execution_count": 10,
   "id": "18e2c14b",
   "metadata": {},
   "outputs": [
    {
     "name": "stdout",
     "output_type": "stream",
     "text": [
      "일교차가 가장 큰 날\n",
      "2020-05-06\n",
      "최저기온이 가장 낮은 날\n",
      "2020-12-30\n",
      "최고기온이 가장 높은 날\n",
      "2020-06-22\n"
     ]
    }
   ],
   "source": [
    "#실습 1번\n",
    "import csv\n",
    "\n",
    "f = open('seoul.csv', 'r', encoding='cp949')\n",
    "data = csv.reader(f)\n",
    "header = next(data)\n",
    "max_temp=-999\n",
    "max_date=''\n",
    "min_temp=999\n",
    "min_date=''\n",
    "max_cross=-999\n",
    "max_cross_date=''\n",
    "for row in data:\n",
    "    if row[-1] == '':\n",
    "        row[-1] = -999\n",
    "    if row[-2] == '':\n",
    "        row[-2] = 999 \n",
    "    row[-1] = float(row[-1])\n",
    "    row[-2] = float(row[-2])\n",
    "    if max_temp < row[-1]:\n",
    "        max_date = row[0]\n",
    "        max_temp = row[-1]\n",
    "    if min_temp > row[-2]:\n",
    "        min_date = row[0]\n",
    "        min_temp = row[-2]\n",
    "    if max_cross < (row[-1] - row[-2]):\n",
    "        max_cross_date = row[0]\n",
    "        max_cross = (row[-1] - row[-2])\n",
    "f.close()\n",
    "print(\"일교차가 가장 큰 날\\n{0:s}\".format(max_cross_date))\n",
    "print(\"최저기온이 가장 낮은 날\\n{0:s}\".format(min_date))\n",
    "print(\"최고기온이 가장 높은 날\\n{0:s}\".format(max_date))"
   ]
  },
  {
   "cell_type": "code",
   "execution_count": 20,
   "id": "2a51bf47",
   "metadata": {},
   "outputs": [
    {
     "name": "stdout",
     "output_type": "stream",
     "text": [
      "이용객이 가장 많은 역 순위\n",
      "1. 강남(3167883)\n",
      "2. 신림(2799927)\n",
      "3. 잠실(송파구청)(2669433)\n",
      "이용객이 가장 적은 역 순위\n",
      "1. 계양(2)\n",
      "2. 신내(3)\n",
      "3. 지축(4)\n"
     ]
    }
   ],
   "source": [
    "#실습 2번\n",
    "import csv\n",
    "\n",
    "f = open('subwayuse.csv', 'r', encoding='UTF8')\n",
    "data = csv.reader(f)\n",
    "header = next(data)\n",
    "max_user = [-999,-999,-999]\n",
    "max_user_name = ['','','']\n",
    "min_user = [9999999,9999999,9999999]\n",
    "min_user_name = ['','','']\n",
    "for row in data: #row[-1]:하차승객, row[-2]:승차승객\n",
    "    if row[-1] == '':\n",
    "        row[-1] = 0\n",
    "    if row[-2] == '':\n",
    "        row[-2] = 0\n",
    "    row[-1] = int(row[-1].replace(',',''))\n",
    "    row[-2] = int(row[-2].replace(',',''))\n",
    "    temp = row[-1] + row[-2]\n",
    "    if temp > max_user[2]:\n",
    "        if temp > max_user[1]:\n",
    "            if temp > max_user[0]:\n",
    "                max_user.insert(0, temp)\n",
    "                max_user_name.insert(0, row[-3])\n",
    "            else:\n",
    "                max_user.insert(1, temp)\n",
    "                max_user_name.insert(1, row[-3])\n",
    "        else:\n",
    "            max_user.insert(2, temp)\n",
    "            max_user_name.insert(2, row[-3])\n",
    "        max_user.pop()\n",
    "        max_user_name.pop()\n",
    "        \n",
    "    if temp < min_user[2]:\n",
    "        if temp < min_user[1]:\n",
    "            if temp < min_user[0]:\n",
    "                min_user.insert(0, temp)\n",
    "                min_user_name.insert(0, row[-3])\n",
    "            else:\n",
    "                min_user.insert(1, temp)\n",
    "                min_user_name.insert(1, row[-3])\n",
    "        else:\n",
    "            min_user.insert(2, temp)\n",
    "            min_user_name.insert(2, row[-3])\n",
    "        min_user.pop()\n",
    "        min_user_name.pop()\n",
    "f.close()\n",
    "print(\"이용객이 가장 많은 역 순위\")\n",
    "for i in range(0,3):\n",
    "    print(\"{0:d}. {1:s}({2:d})\".format((i+1), max_user_name[i], max_user[i]))\n",
    "print(\"이용객이 가장 적은 역 순위\")\n",
    "for i in range(0,3):\n",
    "    print(\"{0:d}. {1:s}({2:d})\".format((i+1), min_user_name[i], min_user[i]))"
   ]
  },
  {
   "cell_type": "code",
   "execution_count": null,
   "id": "e0b406c5",
   "metadata": {},
   "outputs": [],
   "source": []
  }
 ],
 "metadata": {
  "kernelspec": {
   "display_name": "Python 3",
   "language": "python",
   "name": "python3"
  },
  "language_info": {
   "codemirror_mode": {
    "name": "ipython",
    "version": 3
   },
   "file_extension": ".py",
   "mimetype": "text/x-python",
   "name": "python",
   "nbconvert_exporter": "python",
   "pygments_lexer": "ipython3",
   "version": "3.8.8"
  }
 },
 "nbformat": 4,
 "nbformat_minor": 5
}
