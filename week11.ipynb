{
 "cells": [
  {
   "cell_type": "code",
   "execution_count": 2,
   "id": "79648bb7",
   "metadata": {},
   "outputs": [
    {
     "name": "stdout",
     "output_type": "stream",
     "text": [
      "cp file1 file2\n"
     ]
    }
   ],
   "source": [
    "#실습 6번\n",
    "com = input()\n",
    "com_list = com.split()\n",
    "if com_list[0] == \"cp\":\n",
    "    f = open(com_list[1]+'.txt','r')\n",
    "    f2 = open(com_list[2]+'.txt', 'w')\n",
    "    while True:\n",
    "        line = f.readline()\n",
    "        if not line: break\n",
    "        f2.write(line)\n",
    "    f.close()\n",
    "    f2.close()"
   ]
  },
  {
   "cell_type": "code",
   "execution_count": 3,
   "id": "a5dfbde3",
   "metadata": {},
   "outputs": [
    {
     "name": "stdout",
     "output_type": "stream",
     "text": [
      "wc file1\n",
      "num of line: 4\n",
      "num of word: 9\n"
     ]
    }
   ],
   "source": [
    "#실습 7번\n",
    "com = input()\n",
    "com_list = com.split()\n",
    "if com_list[0] == \"wc\":\n",
    "    f = open(com_list[1]+'.txt', 'r')\n",
    "    lines_list = f.readlines()\n",
    "    num_lines = len(lines_list)\n",
    "    words_list = []\n",
    "    for line in lines_list:\n",
    "        words_list.append(line.split())\n",
    "    num_words = 0\n",
    "    for word in words_list:\n",
    "        num_words = num_words + len(word)\n",
    "    print(\"num of line: {0:d}\\nnum of word: {1:d}\".format(num_lines, num_words))\n",
    "    f.close()"
   ]
  },
  {
   "cell_type": "code",
   "execution_count": 4,
   "id": "59b1ff93",
   "metadata": {},
   "outputs": [
    {
     "name": "stdout",
     "output_type": "stream",
     "text": [
      "1 + 5 = 6 입니다.\n",
      "1 - 5 = -4 입니다.\n",
      "1 * 5 = 5 입니다.\n",
      "1 / 5 = 0.2 입니다.\n"
     ]
    }
   ],
   "source": [
    "#실습 8번\n",
    "# _*_ coding: cp949 _*_\n",
    "class Calc:\n",
    "    def sum(self, a, b):\n",
    "        result = a + b\n",
    "        print(\"{0:s} + {1:s} = {2:s} 입니다.\".format(str(a),str(b),str(result)))\n",
    "    def sub(self, a, b):\n",
    "        result = a - b\n",
    "        print(\"{0:s} - {1:s} = {2:s} 입니다.\".format(str(a),str(b),str(result)))\n",
    "    def multi(self, a, b):\n",
    "        result = a * b\n",
    "        print(\"{0:s} * {1:s} = {2:s} 입니다.\".format(str(a),str(b),str(result)))\n",
    "    def divi(self, a, b):\n",
    "        if b != 0:\n",
    "            result = a / b\n",
    "            print(\"{0:s} / {1:s} = {2:s} 입니다.\".format(str(a),str(b),str(result)))\n",
    "        else:\n",
    "            print(\"0으로 나눌 수 없습니다.\")\n",
    "\n",
    "if __name__ == \"__main__\":\n",
    "    calc = Calc()\n",
    "    calc.sum(1,5)\n",
    "    calc.sub(1,5)\n",
    "    calc.multi(1,5)\n",
    "    calc.divi(1,5)"
   ]
  },
  {
   "cell_type": "code",
   "execution_count": 9,
   "id": "882a460c",
   "metadata": {},
   "outputs": [
    {
     "name": "stdout",
     "output_type": "stream",
     "text": [
      "1 + 2 - 3 * 4 + 5\n",
      "1+2-3*4+5=-4\n"
     ]
    }
   ],
   "source": [
    "#실습 9번\n",
    "num_stack = []\n",
    "op_stack = []\n",
    "dic = {'+':1, '-':1, '*':2, '/':2}\n",
    "\n",
    "def cal(n1, n2, op):\n",
    "    if op == '+':\n",
    "        return str(int(n1) + int(n2))\n",
    "    elif op == '-':\n",
    "        return str(int(n1) - int(n2))\n",
    "    elif op == '*':\n",
    "        return str(int(n1) * int(n2))\n",
    "    elif op == '/':\n",
    "        return str(int(n1) / int(n2))\n",
    "    \n",
    "cmd = input()\n",
    "cmd_list = cmd.split()\n",
    "count = 1\n",
    "for e in cmd_list:\n",
    "    if count%2 == 1: # num\n",
    "        num_stack.append(e)\n",
    "    else: #operator\n",
    "        if len(op_stack) == 0: #스택이 빈 경우\n",
    "            op_stack.append(e)\n",
    "        else: #스택이 존재하는 경우\n",
    "            if dic[op_stack[len(op_stack)-1]] < dic[e]: #새로 추가된 e가 더 크면 push\n",
    "                op_stack.append(e)\n",
    "            elif dic[op_stack[len(op_stack)-1]] > dic[e]: #새로 추가된 e가 작으면 pop\n",
    "                while len(op_stack) != 0: #스택이 비어있지 않은 동안\n",
    "                    num2 = num_stack.pop()\n",
    "                    num1 = num_stack.pop()\n",
    "                    op = op_stack.pop()\n",
    "                    num_stack.append(cal(num1,num2,op))\n",
    "                op_stack.append(e)\n",
    "            else: #새로 추가된 e가 같을때\n",
    "                if dic[e] == 2: #*나 /일 경우\n",
    "                    op_stack.append(e)\n",
    "                else: #+나 -일 경우\n",
    "                    while len(op_stack) != 0: #스택이 비어있지 않은 동안\n",
    "                        num2 = num_stack.pop()\n",
    "                        num1 = num_stack.pop()\n",
    "                        op = op_stack.pop()\n",
    "                        num_stack.append(cal(num1,num2,op))\n",
    "                    op_stack.append(e)\n",
    "                \n",
    "    if count == len(cmd_list):\n",
    "        while len(op_stack) != 0: #스택이 비어있지 않은 동안\n",
    "            num2 = num_stack.pop()\n",
    "            num1 = num_stack.pop()\n",
    "            op = op_stack.pop()\n",
    "            num_stack.append(cal(num1,num2,op))\n",
    "    count = count + 1\n",
    "temp = \"\"\n",
    "for i in cmd_list:\n",
    "    if i != ' ':\n",
    "        temp = temp + i\n",
    "print(temp+\"=\"+num_stack[0])"
   ]
  },
  {
   "cell_type": "code",
   "execution_count": null,
   "id": "dfc976b7",
   "metadata": {},
   "outputs": [],
   "source": []
  }
 ],
 "metadata": {
  "kernelspec": {
   "display_name": "Python 3",
   "language": "python",
   "name": "python3"
  },
  "language_info": {
   "codemirror_mode": {
    "name": "ipython",
    "version": 3
   },
   "file_extension": ".py",
   "mimetype": "text/x-python",
   "name": "python",
   "nbconvert_exporter": "python",
   "pygments_lexer": "ipython3",
   "version": "3.9.4"
  }
 },
 "nbformat": 4,
 "nbformat_minor": 5
}
